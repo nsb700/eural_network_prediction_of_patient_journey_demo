{
 "cells": [
  {
   "cell_type": "markdown",
   "id": "4e9cfb78-408c-40dd-9d0f-edb7291dd04e",
   "metadata": {},
   "source": [
    "# STEP # 3 - REAL-WORLD PREDICTION OF NEW BETA BLOCKER USE\n",
    "\n",
    "## As we will see this notebook, this tool benefits the following entities : - \n",
    "## (1) Provider-end (hospitals, doctors, physicians, nurses, clinicians),\n",
    "## (2) Payer-end (risk managers, clinical managers, actuary, medical economics, finance) \n",
    "\n",
    "## The prediction gives a quick sense of severity of a patient (member). This is valuable in following scenarios :-\n",
    "## (1) Effective and Efficient Member Intervention,\n",
    "## (2) Budgeting, \n",
    "## (3) Accurate Risk Assessment\n",
    "## (4) Reduce Costs - Efficiently and targeted member intervention reduces costs,\n",
    "## (5) Reduce financial burden of most expensive procedures,\n",
    "## (6) Essentially reduce ROI...\n",
    "\n",
    "## In real world, this would not be the only tool at disposal. An well-informed decision would have to made by weighing predictions of this model with other tools at disposal. \n",
    "\n",
    "## For ex: Let's say a clinical team at the payer-end already has been using medical charts for selecting patients to contact for member intervention - \n",
    "## ( By the way, we have also built a tool for PDF medical charts which reads and analyzes them and outputs an index of diagnoses found within it. This tool not only reduced burden and time of reading medical charts, but has also reduced costs in millions of dollars. ) \n",
    "\n",
    "## After analyzing medical charts, if the clinical team is able to find say 100 members, this tool can further help to focus on members of interest based on high cost items. It can reduce the member set from 100 to way fewer members with more ROI.  "
   ]
  },
  {
   "cell_type": "code",
   "execution_count": 1,
   "id": "b567a057-6ae1-4ddc-a857-d5939aedd78d",
   "metadata": {},
   "outputs": [
    {
     "name": "stderr",
     "output_type": "stream",
     "text": [
      "2023-08-24 19:18:51.288286: I tensorflow/tsl/cuda/cudart_stub.cc:28] Could not find cuda drivers on your machine, GPU will not be used.\n",
      "2023-08-24 19:18:51.335905: I tensorflow/tsl/cuda/cudart_stub.cc:28] Could not find cuda drivers on your machine, GPU will not be used.\n",
      "2023-08-24 19:18:51.336942: I tensorflow/core/platform/cpu_feature_guard.cc:182] This TensorFlow binary is optimized to use available CPU instructions in performance-critical operations.\n",
      "To enable the following instructions: AVX2 FMA, in other operations, rebuild TensorFlow with the appropriate compiler flags.\n",
      "2023-08-24 19:18:52.107360: W tensorflow/compiler/tf2tensorrt/utils/py_utils.cc:38] TF-TRT Warning: Could not find TensorRT\n"
     ]
    }
   ],
   "source": [
    "from keras.models import load_model\n",
    "import numpy as np"
   ]
  },
  {
   "cell_type": "markdown",
   "id": "60df899e-886a-4b14-b572-bbef57ea619d",
   "metadata": {},
   "source": [
    "## Load keras model from disk"
   ]
  },
  {
   "cell_type": "code",
   "execution_count": 2,
   "id": "fe1452d6-82d2-4ee1-ab33-96ed24d4c708",
   "metadata": {},
   "outputs": [],
   "source": [
    "model_to_predict_new_beta_blocker_use = load_model('step_02_output_keras_model/model_to_predict_new_beta_blocker_use.keras')"
   ]
  },
  {
   "cell_type": "markdown",
   "id": "2cda8520-4e0a-4b90-835a-a6c79c5b1d75",
   "metadata": {},
   "source": [
    "## SCENARIO # 1\n",
    "### Assume that the patient has had the following encounters in the past :\n",
    "### Feature ID = 0 - Diagnosis: Certain conditions originating in the perinatal period \n",
    "### Feature ID = 3 - Diagnosis: Congenital malformations, deformations and chromosomal abnormalities  \n",
    "### Feature ID = 5 - Diagnosis: Diseases of the circulatory system  \n",
    "\n",
    "### The model thinks there is a ~38% probability that this patient will start using BETA BLOCKERS the next time there is an encounter.  "
   ]
  },
  {
   "cell_type": "code",
   "execution_count": 3,
   "id": "51a41941-a53e-4e4e-9f93-1f29ed84ceb1",
   "metadata": {},
   "outputs": [
    {
     "name": "stdout",
     "output_type": "stream",
     "text": [
      "1/1 [==============================] - 0s 123ms/step\n"
     ]
    },
    {
     "data": {
      "text/plain": [
       "array([[0.37912253]], dtype=float32)"
      ]
     },
     "execution_count": 3,
     "metadata": {},
     "output_type": "execute_result"
    }
   ],
   "source": [
    "dummy_ip = np.zeros((1, 160))\n",
    "dummy_ip[0][[0,3,5]] = 1\n",
    "model_to_predict_new_beta_blocker_use.predict(dummy_ip)"
   ]
  },
  {
   "cell_type": "markdown",
   "id": "15533036-220c-405e-a809-06d726a9a32b",
   "metadata": {},
   "source": [
    "## SCENARIO # 2\n",
    "### Assume that the patient has had the following encounters in the past :\n",
    "### Feature ID = 25 - Procedure: Imaging\n",
    "### Feature ID = 27 - Procedure: Medical and Surgical\n",
    "### Feature ID = 65 - RX: ANTIARRHYTHMICS\n",
    "### The model thinks there is a ~69.6% probability that this patient will start using BETA BLOCKERS the next time there is an encounter."
   ]
  },
  {
   "cell_type": "code",
   "execution_count": 4,
   "id": "05b9087e-a427-4f71-a64f-fc2383deacc8",
   "metadata": {},
   "outputs": [
    {
     "name": "stdout",
     "output_type": "stream",
     "text": [
      "1/1 [==============================] - 0s 24ms/step\n"
     ]
    },
    {
     "data": {
      "text/plain": [
       "array([[0.69595057]], dtype=float32)"
      ]
     },
     "execution_count": 4,
     "metadata": {},
     "output_type": "execute_result"
    }
   ],
   "source": [
    "dummy_ip = np.zeros((1, 160))\n",
    "dummy_ip[0][[25, 27, 65]] = 1\n",
    "model_to_predict_new_beta_blocker_use.predict(dummy_ip)"
   ]
  }
 ],
 "metadata": {
  "kernelspec": {
   "display_name": "Python 3 (ipykernel)",
   "language": "python",
   "name": "python3"
  },
  "language_info": {
   "codemirror_mode": {
    "name": "ipython",
    "version": 3
   },
   "file_extension": ".py",
   "mimetype": "text/x-python",
   "name": "python",
   "nbconvert_exporter": "python",
   "pygments_lexer": "ipython3",
   "version": "3.10.12"
  }
 },
 "nbformat": 4,
 "nbformat_minor": 5
}
