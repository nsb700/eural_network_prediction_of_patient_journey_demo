{
 "cells": [
  {
   "cell_type": "markdown",
   "id": "6f58134a-aa64-4858-971c-7fbd3a2840a4",
   "metadata": {},
   "source": [
    "# STEP # 2 - TRAIN NEURAL NETWORK. \n",
    "## Our goal is to predict patient diagnoses, procedures, services and Rx. In the previous notebook, we only read claims data and prepared the data suitable for training. In this notebook, we train models and perform predictions."
   ]
  },
  {
   "cell_type": "code",
   "execution_count": 1,
   "id": "4b6bd74c-bba0-4f99-9590-9befa0a7083f",
   "metadata": {},
   "outputs": [],
   "source": [
    "import os\n",
    "import pandas as pd\n",
    "import numpy as np\n",
    "from ConstantsNamespace import PatientJourneyConstantsNamespace"
   ]
  },
  {
   "cell_type": "markdown",
   "id": "fb5b7d48-a226-41aa-8417-3c394e99c961",
   "metadata": {},
   "source": [
    "### Constants for file names"
   ]
  },
  {
   "cell_type": "code",
   "execution_count": 2,
   "id": "6a7b5b24-1d38-469b-b2a2-bc70d647005e",
   "metadata": {},
   "outputs": [],
   "source": [
    "constants = PatientJourneyConstantsNamespace()"
   ]
  },
  {
   "cell_type": "markdown",
   "id": "8fae17df-3462-4aee-9b7a-8f5438870be8",
   "metadata": {},
   "source": [
    "### Read the saved output of Step # 1 , i.e. \n",
    "### (1) input data on 160 features, output data on 160 features, repeat features and new features. All these are one-hot-encoded.\n",
    "### (2) Read dataframe 'unique_featureids_and_desc'which has metadata of features¶"
   ]
  },
  {
   "cell_type": "code",
   "execution_count": 3,
   "id": "63556190-fc4f-4df2-9c1c-84a6a7a48d6a",
   "metadata": {},
   "outputs": [],
   "source": [
    "featureid_id_bubbled_down_x = np.load('step_01_output/featureid_id_bubbled_down_x.npy')\n",
    "featureid_id_bubbled_down_y = np.load('step_01_output/featureid_id_bubbled_down_y.npy')\n",
    "repeat_features = np.load('step_01_output/repeat_features.npy')\n",
    "new_features = np.load('step_01_output/new_features.npy')\n",
    "\n",
    "unique_featureids_and_desc = pd.read_csv('step_01_output/unique_featureids_and_desc', sep='\\t', header=0)"
   ]
  },
  {
   "cell_type": "markdown",
   "id": "dfbc1c6e-e563-4afe-b7c7-d0fb02819958",
   "metadata": {},
   "source": [
    "### Verify the feature id for BETA BLOCKERS"
   ]
  },
  {
   "cell_type": "code",
   "execution_count": 4,
   "id": "020a83e7-2e58-43c6-8653-2f5a0804ce6a",
   "metadata": {},
   "outputs": [
    {
     "data": {
      "text/html": [
       "<div>\n",
       "<style scoped>\n",
       "    .dataframe tbody tr th:only-of-type {\n",
       "        vertical-align: middle;\n",
       "    }\n",
       "\n",
       "    .dataframe tbody tr th {\n",
       "        vertical-align: top;\n",
       "    }\n",
       "\n",
       "    .dataframe thead th {\n",
       "        text-align: right;\n",
       "    }\n",
       "</style>\n",
       "<table border=\"1\" class=\"dataframe\">\n",
       "  <thead>\n",
       "    <tr style=\"text-align: right;\">\n",
       "      <th></th>\n",
       "      <th>featureid_id</th>\n",
       "      <th>featuretype</th>\n",
       "      <th>Level1</th>\n",
       "    </tr>\n",
       "  </thead>\n",
       "  <tbody>\n",
       "    <tr>\n",
       "      <th>63</th>\n",
       "      <td>63</td>\n",
       "      <td>rx</td>\n",
       "      <td>BETA BLOCKERS</td>\n",
       "    </tr>\n",
       "  </tbody>\n",
       "</table>\n",
       "</div>"
      ],
      "text/plain": [
       "    featureid_id featuretype         Level1\n",
       "63            63          rx  BETA BLOCKERS"
      ]
     },
     "execution_count": 4,
     "metadata": {},
     "output_type": "execute_result"
    }
   ],
   "source": [
    "unique_featureids_and_desc[unique_featureids_and_desc['Level1']=='BETA BLOCKERS']"
   ]
  },
  {
   "cell_type": "markdown",
   "id": "c9a67756-432d-4523-b3f8-cc9db038b4ab",
   "metadata": {},
   "source": [
    "#### Create 'train_data' and 'test_data'. \n",
    "#### Create 'train label' and 'test_label' specifically for BETA BLOCKERS "
   ]
  },
  {
   "cell_type": "code",
   "execution_count": 5,
   "id": "ab4a5247-5621-4e98-8378-dc43e1401c78",
   "metadata": {},
   "outputs": [],
   "source": [
    "test_data   = featureid_id_bubbled_down_x[0:1000]\n",
    "test_labels = new_features[0:1000][:,63] # 63 is for BETA BLOCKERS\n",
    "\n",
    "train_data   = featureid_id_bubbled_down_x[1000:]\n",
    "train_labels = new_features[1000:][:,63] # 63 is for BETA BLOCKERS"
   ]
  },
  {
   "cell_type": "markdown",
   "id": "669acea2-4a53-4067-a1e9-7579aa6b1402",
   "metadata": {},
   "source": [
    "### Build model"
   ]
  },
  {
   "cell_type": "code",
   "execution_count": 6,
   "id": "1e9cae74-d6bd-46f3-8314-b0f28bfd8a94",
   "metadata": {},
   "outputs": [
    {
     "name": "stderr",
     "output_type": "stream",
     "text": [
      "2023-08-24 18:23:19.908088: I tensorflow/tsl/cuda/cudart_stub.cc:28] Could not find cuda drivers on your machine, GPU will not be used.\n",
      "2023-08-24 18:23:19.942257: I tensorflow/tsl/cuda/cudart_stub.cc:28] Could not find cuda drivers on your machine, GPU will not be used.\n",
      "2023-08-24 18:23:19.943094: I tensorflow/core/platform/cpu_feature_guard.cc:182] This TensorFlow binary is optimized to use available CPU instructions in performance-critical operations.\n",
      "To enable the following instructions: AVX2 FMA, in other operations, rebuild TensorFlow with the appropriate compiler flags.\n",
      "2023-08-24 18:23:21.496297: W tensorflow/compiler/tf2tensorrt/utils/py_utils.cc:38] TF-TRT Warning: Could not find TensorRT\n"
     ]
    }
   ],
   "source": [
    "from keras import models, layers\n",
    "\n",
    "def get_model():\n",
    "    model = models.Sequential()\n",
    "    model.add(layers.Dense(160, activation='relu', input_shape=(160,) ))\n",
    "    model.add(layers.Dense(160, activation='relu'))\n",
    "    model.add(layers.Dense(1, activation='sigmoid'))\n",
    "    model.compile(loss='binary_crossentropy', optimizer='rmsprop', metrics=['accuracy'])\n",
    "    return model"
   ]
  },
  {
   "cell_type": "markdown",
   "id": "d7fbe167-d19d-4156-9d0a-21275d272fed",
   "metadata": {},
   "source": [
    "### K-fold Cross-validation "
   ]
  },
  {
   "cell_type": "code",
   "execution_count": 7,
   "id": "41a8b491-581f-45c8-8660-939a87f33b8c",
   "metadata": {},
   "outputs": [
    {
     "name": "stdout",
     "output_type": "stream",
     "text": [
      "Processing fold #  0\n",
      "Epoch 1/10\n",
      "4641/4641 [==============================] - 16s 3ms/step - loss: 0.0335 - accuracy: 0.9947 - val_loss: 0.0432 - val_accuracy: 0.9929\n",
      "Epoch 2/10\n",
      "4641/4641 [==============================] - 13s 3ms/step - loss: 0.0326 - accuracy: 0.9947 - val_loss: 0.0394 - val_accuracy: 0.9929\n",
      "Epoch 3/10\n",
      "4641/4641 [==============================] - 15s 3ms/step - loss: 0.0326 - accuracy: 0.9947 - val_loss: 0.0414 - val_accuracy: 0.9929\n",
      "Epoch 4/10\n",
      "4641/4641 [==============================] - 13s 3ms/step - loss: 0.0325 - accuracy: 0.9947 - val_loss: 0.0456 - val_accuracy: 0.9929\n",
      "Epoch 5/10\n",
      "4641/4641 [==============================] - 10s 2ms/step - loss: 0.0323 - accuracy: 0.9947 - val_loss: 0.0515 - val_accuracy: 0.9929\n",
      "Epoch 6/10\n",
      "4641/4641 [==============================] - 10s 2ms/step - loss: 0.0333 - accuracy: 0.9947 - val_loss: 0.0500 - val_accuracy: 0.9929\n",
      "Epoch 7/10\n",
      "4641/4641 [==============================] - 12s 3ms/step - loss: 0.0337 - accuracy: 0.9947 - val_loss: 0.0430 - val_accuracy: 0.9929\n",
      "Epoch 8/10\n",
      "4641/4641 [==============================] - 12s 3ms/step - loss: 0.0334 - accuracy: 0.9947 - val_loss: 0.0454 - val_accuracy: 0.9929\n",
      "Epoch 9/10\n",
      "4641/4641 [==============================] - 13s 3ms/step - loss: 0.0339 - accuracy: 0.9947 - val_loss: 0.0519 - val_accuracy: 0.9929\n",
      "Epoch 10/10\n",
      "4641/4641 [==============================] - 15s 3ms/step - loss: 0.0340 - accuracy: 0.9947 - val_loss: 0.0582 - val_accuracy: 0.9929\n",
      "Processing fold #  1\n",
      "Epoch 1/10\n",
      "4641/4641 [==============================] - 12s 3ms/step - loss: 0.0448 - accuracy: 0.9928 - val_loss: 0.0223 - val_accuracy: 0.9967\n",
      "Epoch 2/10\n",
      "4641/4641 [==============================] - 14s 3ms/step - loss: 0.0433 - accuracy: 0.9928 - val_loss: 0.0264 - val_accuracy: 0.9967\n",
      "Epoch 3/10\n",
      "4641/4641 [==============================] - 12s 3ms/step - loss: 0.0432 - accuracy: 0.9928 - val_loss: 0.0256 - val_accuracy: 0.9967\n",
      "Epoch 4/10\n",
      "4641/4641 [==============================] - 13s 3ms/step - loss: 0.0433 - accuracy: 0.9928 - val_loss: 0.0234 - val_accuracy: 0.9967\n",
      "Epoch 5/10\n",
      "4641/4641 [==============================] - 13s 3ms/step - loss: 0.0431 - accuracy: 0.9928 - val_loss: 0.0251 - val_accuracy: 0.9967\n",
      "Epoch 6/10\n",
      "4641/4641 [==============================] - 10s 2ms/step - loss: 0.0431 - accuracy: 0.9927 - val_loss: 0.0230 - val_accuracy: 0.9967\n",
      "Epoch 7/10\n",
      "4641/4641 [==============================] - 12s 3ms/step - loss: 0.0433 - accuracy: 0.9928 - val_loss: 0.0223 - val_accuracy: 0.9967\n",
      "Epoch 8/10\n",
      "4641/4641 [==============================] - 12s 3ms/step - loss: 0.0432 - accuracy: 0.9928 - val_loss: 0.0235 - val_accuracy: 0.9967\n",
      "Epoch 9/10\n",
      "4641/4641 [==============================] - 12s 3ms/step - loss: 0.0431 - accuracy: 0.9928 - val_loss: 0.0286 - val_accuracy: 0.9967\n",
      "Epoch 10/10\n",
      "4641/4641 [==============================] - 11s 2ms/step - loss: 0.0432 - accuracy: 0.9928 - val_loss: 0.0234 - val_accuracy: 0.9967\n",
      "Processing fold #  2\n",
      "Epoch 1/10\n",
      "4641/4641 [==============================] - 11s 2ms/step - loss: 0.0348 - accuracy: 0.9948 - val_loss: 0.0390 - val_accuracy: 0.9928\n",
      "Epoch 2/10\n",
      "4641/4641 [==============================] - 11s 2ms/step - loss: 0.0346 - accuracy: 0.9947 - val_loss: 0.0437 - val_accuracy: 0.9928\n",
      "Epoch 3/10\n",
      "4641/4641 [==============================] - 12s 3ms/step - loss: 0.0344 - accuracy: 0.9946 - val_loss: 0.0442 - val_accuracy: 0.9928\n",
      "Epoch 4/10\n",
      "4641/4641 [==============================] - 15s 3ms/step - loss: 0.0344 - accuracy: 0.9947 - val_loss: 0.0456 - val_accuracy: 0.9928\n",
      "Epoch 5/10\n",
      "4641/4641 [==============================] - 11s 2ms/step - loss: 0.0346 - accuracy: 0.9947 - val_loss: 0.0432 - val_accuracy: 0.9928\n",
      "Epoch 6/10\n",
      "4641/4641 [==============================] - 11s 2ms/step - loss: 0.0356 - accuracy: 0.9947 - val_loss: 0.0466 - val_accuracy: 0.9928\n",
      "Epoch 7/10\n",
      "4641/4641 [==============================] - 12s 3ms/step - loss: 0.0359 - accuracy: 0.9947 - val_loss: 0.0462 - val_accuracy: 0.9928\n",
      "Epoch 8/10\n",
      "4641/4641 [==============================] - 17s 4ms/step - loss: 0.0376 - accuracy: 0.9946 - val_loss: 0.0486 - val_accuracy: 0.9928\n",
      "Epoch 9/10\n",
      "4641/4641 [==============================] - 13s 3ms/step - loss: 0.0407 - accuracy: 0.9947 - val_loss: 0.0585 - val_accuracy: 0.9923\n",
      "Epoch 10/10\n",
      "4641/4641 [==============================] - 12s 3ms/step - loss: 0.0408 - accuracy: 0.9947 - val_loss: 0.0624 - val_accuracy: 0.9924\n"
     ]
    }
   ],
   "source": [
    "k = 3\n",
    "num_val_samples = len(train_data)//k\n",
    "num_epochs = 10\n",
    "accuracy_histories = []\n",
    "loss_histories = []\n",
    "val_accuracy_histories = []\n",
    "val_loss_histories = []\n",
    "\n",
    "model = get_model()\n",
    "\n",
    "for i in range(k):\n",
    "    print('Processing fold # ', i)\n",
    "    val_data   = train_data[ i*num_val_samples : (i+1)*num_val_samples ]\n",
    "    val_labels = train_labels[ i*num_val_samples : (i+1)*num_val_samples ]\n",
    "\n",
    "    partial_train_data   = np.concatenate([ train_data[: i* num_val_samples]   , train_data[(i+1)* num_val_samples : ] ] , axis=0)\n",
    "    partial_train_labels = np.concatenate([ train_labels[: i* num_val_samples] , train_labels[(i+1)* num_val_samples : ] ] , axis=0)\n",
    "\n",
    "    history = model.fit(partial_train_data, partial_train_labels, validation_data=(val_data, val_labels), epochs=num_epochs)\n",
    "\n",
    "    accuracy_histories.append(history.history['accuracy'])\n",
    "    loss_histories.append(history.history['loss'])\n",
    "    val_accuracy_histories.append(history.history['val_accuracy'])\n",
    "    val_loss_histories.append(history.history['val_loss'])"
   ]
  },
  {
   "cell_type": "markdown",
   "id": "4bed1d6c-4830-4393-a0c7-62e99740c231",
   "metadata": {},
   "source": [
    "### Plot training and validation loss"
   ]
  },
  {
   "cell_type": "code",
   "execution_count": 8,
   "id": "8d161ecc-b60b-4047-8fcf-bbd7600d8e46",
   "metadata": {},
   "outputs": [
    {
     "data": {
      "image/png": "[encoded data removed]",
      "text/plain": [
       "<Figure size 1500x300 with 3 Axes>"
      ]
     },
     "metadata": {},
     "output_type": "display_data"
    }
   ],
   "source": [
    "import matplotlib.pyplot as plt\n",
    "\n",
    "#loss = loss_histories[2]\n",
    "#val_loss = val_loss_histories[2]\n",
    "\n",
    "epochs = range(1, len(loss_histories[0])+1)\n",
    "\n",
    "plt.figure(figsize=(15, 3))\n",
    "\n",
    "plt.subplot(131)\n",
    "plt.plot(epochs, loss_histories[0], 'bo', label = 'Training Loss')\n",
    "plt.plot(epochs, val_loss_histories[0], 'b', label = 'Validation Loss')\n",
    "plt.title('Training and Validation Loss')\n",
    "plt.xlabel('Epochs')\n",
    "plt.ylabel('Loss')\n",
    "plt.legend()\n",
    "\n",
    "plt.subplot(132)\n",
    "plt.plot(epochs, loss_histories[1], 'bo', label = 'Training Loss')\n",
    "plt.plot(epochs, val_loss_histories[1], 'b', label = 'Validation Loss')\n",
    "plt.title('Training and Validation Loss')\n",
    "plt.xlabel('Epochs')\n",
    "plt.ylabel('Loss')\n",
    "plt.legend()\n",
    "\n",
    "plt.subplot(133)\n",
    "plt.plot(epochs, loss_histories[2], 'bo', label = 'Training Loss')\n",
    "plt.plot(epochs, val_loss_histories[2], 'b', label = 'Validation Loss')\n",
    "plt.title('Training and Validation Loss')\n",
    "plt.xlabel('Epochs')\n",
    "plt.ylabel('Loss')\n",
    "plt.legend()\n",
    "\n",
    "plt.show()"
   ]
  },
  {
   "cell_type": "markdown",
   "id": "159b7f8d-4d26-482c-80a7-92131bccc657",
   "metadata": {},
   "source": [
    "## PREDICT - Evaluate on test data"
   ]
  },
  {
   "cell_type": "code",
   "execution_count": 9,
   "id": "de68af5e-e917-4a8d-8e16-e8521fdd13ea",
   "metadata": {},
   "outputs": [
    {
     "name": "stdout",
     "output_type": "stream",
     "text": [
      "['loss', 'accuracy']\n"
     ]
    }
   ],
   "source": [
    "print(model.metrics_names)"
   ]
  },
  {
   "cell_type": "code",
   "execution_count": 10,
   "id": "d71ed47d-c417-4887-9687-baa983024ac2",
   "metadata": {},
   "outputs": [
    {
     "name": "stdout",
     "output_type": "stream",
     "text": [
      "32/32 [==============================] - 0s 3ms/step - loss: 0.0666 - accuracy: 0.9920\n"
     ]
    }
   ],
   "source": [
    "results = model.evaluate(test_data, test_labels)"
   ]
  },
  {
   "cell_type": "code",
   "execution_count": 11,
   "id": "a0d98ce0-3685-45f3-9080-4e5a321799fa",
   "metadata": {},
   "outputs": [
    {
     "data": {
      "text/plain": [
       "[0.06663759052753448, 0.9919999837875366]"
      ]
     },
     "execution_count": 11,
     "metadata": {},
     "output_type": "execute_result"
    }
   ],
   "source": [
    "results"
   ]
  },
  {
   "cell_type": "markdown",
   "id": "fc6f3d92-20d8-4b27-b4e3-1e627a3b2bd6",
   "metadata": {},
   "source": [
    "## Save the Model"
   ]
  },
  {
   "cell_type": "code",
   "execution_count": 12,
   "id": "c575a55e-89ea-4141-8c10-9fb838f8b572",
   "metadata": {},
   "outputs": [],
   "source": [
    "model.save('step_02_output_keras_model/model_to_predict_new_beta_blocker_use.keras')"
   ]
  },
  {
   "cell_type": "code",
   "execution_count": null,
   "id": "2b0d862e-e982-4a35-bbd3-6990c5a5c57a",
   "metadata": {},
   "outputs": [],
   "source": []
  },
  {
   "cell_type": "code",
   "execution_count": null,
   "id": "769f0c8b-6343-4f30-a9e0-53ceb4ce8d34",
   "metadata": {},
   "outputs": [],
   "source": []
  }
 ],
 "metadata": {
  "kernelspec": {
   "display_name": "Python 3 (ipykernel)",
   "language": "python",
   "name": "python3"
  },
  "language_info": {
   "codemirror_mode": {
    "name": "ipython",
    "version": 3
   },
   "file_extension": ".py",
   "mimetype": "text/x-python",
   "name": "python",
   "nbconvert_exporter": "python",
   "pygments_lexer": "ipython3",
   "version": "3.10.12"
  }
 },
 "nbformat": 4,
 "nbformat_minor": 5
}
